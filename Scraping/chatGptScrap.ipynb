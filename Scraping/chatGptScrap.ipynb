{
 "cells": [
  {
   "cell_type": "code",
   "execution_count": 29,
   "metadata": {},
   "outputs": [],
   "source": [
    "\n",
    "\n"
   ]
  },
  {
   "cell_type": "code",
   "execution_count": 30,
   "metadata": {},
   "outputs": [],
   "source": []
  },
  {
   "cell_type": "code",
   "execution_count": 31,
   "metadata": {},
   "outputs": [],
   "source": []
  },
  {
   "cell_type": "code",
   "execution_count": 38,
   "metadata": {},
   "outputs": [],
   "source": [
    "from selenium import webdriver\n",
    "from selenium.webdriver.common.keys import Keys\n",
    "import time\n",
    "driver = webdriver.Chrome('chromedriver')\n",
    "driver.get('https://www.google.com')\n",
    "\n",
    "\n",
    "from selenium.webdriver.common.by import By\n",
    "\n",
    "try :\n",
    "\n",
    "    btn = driver.find_element(By.ID, \"L2AGLb\")\n",
    "    btn.click()\n",
    "except Exception as NoSuchElementException: \n",
    "    print(\"No btn\")\n",
    "    pass\n",
    "\n",
    "search_box = driver.find_element(\"name\", \"q\")\n",
    "search_box.send_keys('Kevin Gana LinkedIn ')\n",
    "search_box.send_keys(Keys.RETURN)\n",
    "time.sleep(3)\n",
    "result = driver.find_element(By.TAG_NAME,'h3')\n",
    "\n",
    "result.click()\n"
   ]
  },
  {
   "cell_type": "code",
   "execution_count": null,
   "metadata": {},
   "outputs": [],
   "source": [
    "# driver = webdriver.Chrome('chromedriver')\n",
    "\n",
    "# driver.get('https://chat.openai.com/chat')\n",
    "\n",
    "# time.sleep(20)\n",
    "# print('test')\n",
    "# try :\n",
    "#     btn = driver.find_element(By.XPATH, \"//input[@type='checkbox']\")\n",
    "#     btn.click()\n",
    "# except Exception as NoSuchElementException: \n",
    "#     print(\"No btn\")\n",
    "#     pass"
   ]
  },
  {
   "cell_type": "code",
   "execution_count": null,
   "metadata": {},
   "outputs": [
    {
     "name": "stderr",
     "output_type": "stream",
     "text": [
      "/var/folders/md/ylsr745n6xbg40g36r72cb2m0000gn/T/ipykernel_27779/3625076624.py:5: DeprecationWarning: headless property is deprecated, instead use add_argument('--headless') or add_argument('--headless=new')\n",
      "  options.headless = True\n"
     ]
    },
    {
     "data": {
      "text/plain": [
       "True"
      ]
     },
     "execution_count": 121,
     "metadata": {},
     "output_type": "execute_result"
    }
   ],
   "source": [
    "import undetected_chromedriver as uc \n",
    "import time \n",
    " \n",
    "options = uc.ChromeOptions() \n",
    "options.headless = True \n",
    "driver = uc.Chrome(use_subprocess=True, options=options) \n",
    "driver.get(\"https://chat.openai.com/chat\") \n",
    "driver.maximize_window() \n",
    "time.sleep(20) \n",
    "driver.save_screenshot(\"chatGPT.png\") \n",
    "\n",
    "\n",
    "# search_box = driver.find_element(\"name\", \"q\")\n",
    "# search_box.clear()\n",
    "# search_box.send_keys('Mohamed Diallo LinkedIn ')\n",
    "# search_box.send_keys(Keys.RETURN)\n",
    "\n",
    "# time.sleep(3)\n",
    "\n",
    "# result = driver.find_element(By.TAG_NAME,'h3')\n",
    "# result.click()"
   ]
  },
  {
   "cell_type": "code",
   "execution_count": 33,
   "metadata": {},
   "outputs": [
    {
     "name": "stdout",
     "output_type": "stream",
     "text": [
      "pass\n",
      "'Chrome' object has no attribute 'find_element_by_xpath'\n"
     ]
    }
   ],
   "source": [
    "import time \n",
    "import undetected_chromedriver as uc\n",
    "from selenium.webdriver.common.keys import Keys\n",
    "\n",
    "from selenium.webdriver.remote.webdriver import By\n",
    "\n",
    "driver = uc.Chrome(use_subprocess=True)\n",
    "driver.get(\"https://chat.openai.com/chat\") \n",
    "time.sleep(5) \n",
    "\n",
    "try : \n",
    "    body = driver.find_element('name', 'email')\n",
    "    body.send_keys('rekabriado@gmail.com')\n",
    "    body.send_keys(Keys.RETURN)\n",
    "\n",
    "    btn = driver.find_element('class', 'btn relative btn-primary rounded-none rounded-r-md')\n",
    "    btn.click()\n",
    "    \n",
    "except Exception as e : \n",
    "    print(\"pass\")\n",
    "\n",
    "try : \n",
    "    l =driver.find_element_by_xpath(\"//button[text()='Check it Now']\")\n",
    "\n",
    "    div = driver.find_element(By.XPATH, \"//button[text()='Log in']\")\n",
    "    div.click()\n",
    "\n",
    "except Exception as e : \n",
    "    print(e)\n",
    "\n",
    "\n",
    "\n"
   ]
  },
  {
   "cell_type": "code",
   "execution_count": null,
   "metadata": {},
   "outputs": [],
   "source": [
    "# import undetected_chromedriver as uc\n",
    "# driver = uc.Chrome(use_subprocess=True)\n",
    "# driver.get(\"https://chat.openai.com/chat\") \n",
    "# time.sleep(8) \n",
    "\n",
    "# div = driver.find_element(By., \"btn relative btn-primary\")\n",
    "# div.click()\n",
    "# # driver.findElement(By.tagName(\"input\"));"
   ]
  },
  {
   "cell_type": "code",
   "execution_count": null,
   "metadata": {},
   "outputs": [
    {
     "ename": "InvalidArgumentException",
     "evalue": "Message: invalid argument: cannot parse capability: goog:chromeOptions\nfrom invalid argument: unrecognized chrome option: excludeSwitches\nStacktrace:\n0   undetected_chromedriver             0x0000000101391428 undetected_chromedriver + 4899880\n1   undetected_chromedriver             0x000000010130ea23 undetected_chromedriver + 4364835\n2   undetected_chromedriver             0x0000000100f58bf6 undetected_chromedriver + 474102\n3   undetected_chromedriver             0x0000000100f7a8aa undetected_chromedriver + 612522\n4   undetected_chromedriver             0x0000000100f7fb35 undetected_chromedriver + 633653\n5   undetected_chromedriver             0x0000000100f75da6 undetected_chromedriver + 593318\n6   undetected_chromedriver             0x0000000100fc9ed2 undetected_chromedriver + 937682\n7   undetected_chromedriver             0x0000000100fc97ae undetected_chromedriver + 935854\n8   undetected_chromedriver             0x0000000100fcb64b undetected_chromedriver + 943691\n9   undetected_chromedriver             0x0000000100fcb3af undetected_chromedriver + 943023\n10  undetected_chromedriver             0x0000000100fc2333 undetected_chromedriver + 906035\n11  undetected_chromedriver             0x0000000100f8c55f undetected_chromedriver + 685407\n12  undetected_chromedriver             0x0000000100f8da7e undetected_chromedriver + 690814\n13  undetected_chromedriver             0x000000010135e79e undetected_chromedriver + 4691870\n14  undetected_chromedriver             0x0000000101363961 undetected_chromedriver + 4712801\n15  undetected_chromedriver             0x000000010136a2ff undetected_chromedriver + 4739839\n16  undetected_chromedriver             0x000000010136485a undetected_chromedriver + 4716634\n17  undetected_chromedriver             0x0000000101336fce undetected_chromedriver + 4530126\n18  undetected_chromedriver             0x00000001013845c8 undetected_chromedriver + 4847048\n19  undetected_chromedriver             0x0000000101384747 undetected_chromedriver + 4847431\n20  undetected_chromedriver             0x000000010139987f undetected_chromedriver + 4933759\n21  libsystem_pthread.dylib             0x00007ff810c8b259 _pthread_start + 125\n22  libsystem_pthread.dylib             0x00007ff810c86c7b thread_start + 15\n",
     "output_type": "error",
     "traceback": [
      "\u001b[0;31m---------------------------------------------------------------------------\u001b[0m",
      "\u001b[0;31mInvalidArgumentException\u001b[0m                  Traceback (most recent call last)",
      "Cell \u001b[0;32mIn[124], line 8\u001b[0m\n\u001b[1;32m      6\u001b[0m options\u001b[39m.\u001b[39madd_argument(\u001b[39m\"\u001b[39m\u001b[39m--disable-blink-features=AutomationControlled\u001b[39m\u001b[39m\"\u001b[39m)\n\u001b[1;32m      7\u001b[0m options\u001b[39m.\u001b[39madd_experimental_option(\u001b[39m\"\u001b[39m\u001b[39mexcludeSwitches\u001b[39m\u001b[39m\"\u001b[39m, [\u001b[39m\"\u001b[39m\u001b[39menable-automation\u001b[39m\u001b[39m\"\u001b[39m])\n\u001b[0;32m----> 8\u001b[0m driver \u001b[39m=\u001b[39m Chrome(options\u001b[39m=\u001b[39;49moptions)\n\u001b[1;32m     10\u001b[0m \u001b[39m# Navigate to the page with the div element\u001b[39;00m\n\u001b[1;32m     11\u001b[0m driver\u001b[39m.\u001b[39mget(\u001b[39m\"\u001b[39m\u001b[39mhttps://example.com\u001b[39m\u001b[39m\"\u001b[39m)\n",
      "File \u001b[0;32m/opt/homebrew/lib/python3.10/site-packages/undetected_chromedriver/__init__.py:441\u001b[0m, in \u001b[0;36mChrome.__init__\u001b[0;34m(self, options, user_data_dir, driver_executable_path, browser_executable_path, port, enable_cdp_events, service_args, service_creationflags, desired_capabilities, advanced_elements, service_log_path, keep_alive, log_level, headless, version_main, patcher_force_close, suppress_welcome, use_subprocess, debug, no_sandbox, **kw)\u001b[0m\n\u001b[1;32m    438\u001b[0m \u001b[39melse\u001b[39;00m:\n\u001b[1;32m    439\u001b[0m     service \u001b[39m=\u001b[39m \u001b[39mNone\u001b[39;00m\n\u001b[0;32m--> 441\u001b[0m \u001b[39msuper\u001b[39;49m(Chrome, \u001b[39mself\u001b[39;49m)\u001b[39m.\u001b[39;49m\u001b[39m__init__\u001b[39;49m(\n\u001b[1;32m    442\u001b[0m     executable_path\u001b[39m=\u001b[39;49m\u001b[39mself\u001b[39;49m\u001b[39m.\u001b[39;49mpatcher\u001b[39m.\u001b[39;49mexecutable_path,\n\u001b[1;32m    443\u001b[0m     port\u001b[39m=\u001b[39;49mport,\n\u001b[1;32m    444\u001b[0m     options\u001b[39m=\u001b[39;49moptions,\n\u001b[1;32m    445\u001b[0m     service_args\u001b[39m=\u001b[39;49mservice_args,\n\u001b[1;32m    446\u001b[0m     desired_capabilities\u001b[39m=\u001b[39;49mdesired_capabilities,\n\u001b[1;32m    447\u001b[0m     service_log_path\u001b[39m=\u001b[39;49mservice_log_path,\n\u001b[1;32m    448\u001b[0m     keep_alive\u001b[39m=\u001b[39;49mkeep_alive,\n\u001b[1;32m    449\u001b[0m     service\u001b[39m=\u001b[39;49mservice,  \u001b[39m# needed or the service will be re-created\u001b[39;49;00m\n\u001b[1;32m    450\u001b[0m )\n\u001b[1;32m    452\u001b[0m \u001b[39mself\u001b[39m\u001b[39m.\u001b[39mreactor \u001b[39m=\u001b[39m \u001b[39mNone\u001b[39;00m\n\u001b[1;32m    454\u001b[0m \u001b[39mif\u001b[39;00m enable_cdp_events:\n",
      "File \u001b[0;32m/opt/homebrew/lib/python3.10/site-packages/selenium/webdriver/chrome/webdriver.py:80\u001b[0m, in \u001b[0;36mWebDriver.__init__\u001b[0;34m(self, executable_path, port, options, service_args, desired_capabilities, service_log_path, chrome_options, service, keep_alive)\u001b[0m\n\u001b[1;32m     77\u001b[0m \u001b[39mif\u001b[39;00m \u001b[39mnot\u001b[39;00m service:\n\u001b[1;32m     78\u001b[0m     service \u001b[39m=\u001b[39m Service(executable_path, port, service_args, service_log_path)\n\u001b[0;32m---> 80\u001b[0m \u001b[39msuper\u001b[39;49m()\u001b[39m.\u001b[39;49m\u001b[39m__init__\u001b[39;49m(\n\u001b[1;32m     81\u001b[0m     DesiredCapabilities\u001b[39m.\u001b[39;49mCHROME[\u001b[39m\"\u001b[39;49m\u001b[39mbrowserName\u001b[39;49m\u001b[39m\"\u001b[39;49m],\n\u001b[1;32m     82\u001b[0m     \u001b[39m\"\u001b[39;49m\u001b[39mgoog\u001b[39;49m\u001b[39m\"\u001b[39;49m,\n\u001b[1;32m     83\u001b[0m     port,\n\u001b[1;32m     84\u001b[0m     options,\n\u001b[1;32m     85\u001b[0m     service_args,\n\u001b[1;32m     86\u001b[0m     desired_capabilities,\n\u001b[1;32m     87\u001b[0m     service_log_path,\n\u001b[1;32m     88\u001b[0m     service,\n\u001b[1;32m     89\u001b[0m     keep_alive,\n\u001b[1;32m     90\u001b[0m )\n",
      "File \u001b[0;32m/opt/homebrew/lib/python3.10/site-packages/selenium/webdriver/chromium/webdriver.py:104\u001b[0m, in \u001b[0;36mChromiumDriver.__init__\u001b[0;34m(self, browser_name, vendor_prefix, port, options, service_args, desired_capabilities, service_log_path, service, keep_alive)\u001b[0m\n\u001b[1;32m    101\u001b[0m \u001b[39mself\u001b[39m\u001b[39m.\u001b[39mservice\u001b[39m.\u001b[39mstart()\n\u001b[1;32m    103\u001b[0m \u001b[39mtry\u001b[39;00m:\n\u001b[0;32m--> 104\u001b[0m     \u001b[39msuper\u001b[39;49m()\u001b[39m.\u001b[39;49m\u001b[39m__init__\u001b[39;49m(\n\u001b[1;32m    105\u001b[0m         command_executor\u001b[39m=\u001b[39;49mChromiumRemoteConnection(\n\u001b[1;32m    106\u001b[0m             remote_server_addr\u001b[39m=\u001b[39;49m\u001b[39mself\u001b[39;49m\u001b[39m.\u001b[39;49mservice\u001b[39m.\u001b[39;49mservice_url,\n\u001b[1;32m    107\u001b[0m             browser_name\u001b[39m=\u001b[39;49mbrowser_name,\n\u001b[1;32m    108\u001b[0m             vendor_prefix\u001b[39m=\u001b[39;49mvendor_prefix,\n\u001b[1;32m    109\u001b[0m             keep_alive\u001b[39m=\u001b[39;49mkeep_alive,\n\u001b[1;32m    110\u001b[0m             ignore_proxy\u001b[39m=\u001b[39;49m_ignore_proxy,\n\u001b[1;32m    111\u001b[0m         ),\n\u001b[1;32m    112\u001b[0m         options\u001b[39m=\u001b[39;49moptions,\n\u001b[1;32m    113\u001b[0m     )\n\u001b[1;32m    114\u001b[0m \u001b[39mexcept\u001b[39;00m \u001b[39mException\u001b[39;00m:\n\u001b[1;32m    115\u001b[0m     \u001b[39mself\u001b[39m\u001b[39m.\u001b[39mquit()\n",
      "File \u001b[0;32m/opt/homebrew/lib/python3.10/site-packages/selenium/webdriver/remote/webdriver.py:286\u001b[0m, in \u001b[0;36mWebDriver.__init__\u001b[0;34m(self, command_executor, desired_capabilities, browser_profile, proxy, keep_alive, file_detector, options)\u001b[0m\n\u001b[1;32m    284\u001b[0m \u001b[39mself\u001b[39m\u001b[39m.\u001b[39m_authenticator_id \u001b[39m=\u001b[39m \u001b[39mNone\u001b[39;00m\n\u001b[1;32m    285\u001b[0m \u001b[39mself\u001b[39m\u001b[39m.\u001b[39mstart_client()\n\u001b[0;32m--> 286\u001b[0m \u001b[39mself\u001b[39;49m\u001b[39m.\u001b[39;49mstart_session(capabilities, browser_profile)\n",
      "File \u001b[0;32m/opt/homebrew/lib/python3.10/site-packages/undetected_chromedriver/__init__.py:704\u001b[0m, in \u001b[0;36mChrome.start_session\u001b[0;34m(self, capabilities, browser_profile)\u001b[0m\n\u001b[1;32m    702\u001b[0m \u001b[39mif\u001b[39;00m \u001b[39mnot\u001b[39;00m capabilities:\n\u001b[1;32m    703\u001b[0m     capabilities \u001b[39m=\u001b[39m \u001b[39mself\u001b[39m\u001b[39m.\u001b[39moptions\u001b[39m.\u001b[39mto_capabilities()\n\u001b[0;32m--> 704\u001b[0m \u001b[39msuper\u001b[39;49m(selenium\u001b[39m.\u001b[39;49mwebdriver\u001b[39m.\u001b[39;49mchrome\u001b[39m.\u001b[39;49mwebdriver\u001b[39m.\u001b[39;49mWebDriver, \u001b[39mself\u001b[39;49m)\u001b[39m.\u001b[39;49mstart_session(\n\u001b[1;32m    705\u001b[0m     capabilities, browser_profile\n\u001b[1;32m    706\u001b[0m )\n",
      "File \u001b[0;32m/opt/homebrew/lib/python3.10/site-packages/selenium/webdriver/remote/webdriver.py:378\u001b[0m, in \u001b[0;36mWebDriver.start_session\u001b[0;34m(self, capabilities, browser_profile)\u001b[0m\n\u001b[1;32m    376\u001b[0m w3c_caps \u001b[39m=\u001b[39m _make_w3c_caps(capabilities)\n\u001b[1;32m    377\u001b[0m parameters \u001b[39m=\u001b[39m {\u001b[39m\"\u001b[39m\u001b[39mcapabilities\u001b[39m\u001b[39m\"\u001b[39m: w3c_caps}\n\u001b[0;32m--> 378\u001b[0m response \u001b[39m=\u001b[39m \u001b[39mself\u001b[39;49m\u001b[39m.\u001b[39;49mexecute(Command\u001b[39m.\u001b[39;49mNEW_SESSION, parameters)\n\u001b[1;32m    379\u001b[0m \u001b[39mif\u001b[39;00m \u001b[39m\"\u001b[39m\u001b[39msessionId\u001b[39m\u001b[39m\"\u001b[39m \u001b[39mnot\u001b[39;00m \u001b[39min\u001b[39;00m response:\n\u001b[1;32m    380\u001b[0m     response \u001b[39m=\u001b[39m response[\u001b[39m\"\u001b[39m\u001b[39mvalue\u001b[39m\u001b[39m\"\u001b[39m]\n",
      "File \u001b[0;32m/opt/homebrew/lib/python3.10/site-packages/selenium/webdriver/remote/webdriver.py:440\u001b[0m, in \u001b[0;36mWebDriver.execute\u001b[0;34m(self, driver_command, params)\u001b[0m\n\u001b[1;32m    438\u001b[0m response \u001b[39m=\u001b[39m \u001b[39mself\u001b[39m\u001b[39m.\u001b[39mcommand_executor\u001b[39m.\u001b[39mexecute(driver_command, params)\n\u001b[1;32m    439\u001b[0m \u001b[39mif\u001b[39;00m response:\n\u001b[0;32m--> 440\u001b[0m     \u001b[39mself\u001b[39;49m\u001b[39m.\u001b[39;49merror_handler\u001b[39m.\u001b[39;49mcheck_response(response)\n\u001b[1;32m    441\u001b[0m     response[\u001b[39m\"\u001b[39m\u001b[39mvalue\u001b[39m\u001b[39m\"\u001b[39m] \u001b[39m=\u001b[39m \u001b[39mself\u001b[39m\u001b[39m.\u001b[39m_unwrap_value(response\u001b[39m.\u001b[39mget(\u001b[39m\"\u001b[39m\u001b[39mvalue\u001b[39m\u001b[39m\"\u001b[39m, \u001b[39mNone\u001b[39;00m))\n\u001b[1;32m    442\u001b[0m     \u001b[39mreturn\u001b[39;00m response\n",
      "File \u001b[0;32m/opt/homebrew/lib/python3.10/site-packages/selenium/webdriver/remote/errorhandler.py:245\u001b[0m, in \u001b[0;36mErrorHandler.check_response\u001b[0;34m(self, response)\u001b[0m\n\u001b[1;32m    243\u001b[0m         alert_text \u001b[39m=\u001b[39m value[\u001b[39m\"\u001b[39m\u001b[39malert\u001b[39m\u001b[39m\"\u001b[39m]\u001b[39m.\u001b[39mget(\u001b[39m\"\u001b[39m\u001b[39mtext\u001b[39m\u001b[39m\"\u001b[39m)\n\u001b[1;32m    244\u001b[0m     \u001b[39mraise\u001b[39;00m exception_class(message, screen, stacktrace, alert_text)  \u001b[39m# type: ignore[call-arg]  # mypy is not smart enough here\u001b[39;00m\n\u001b[0;32m--> 245\u001b[0m \u001b[39mraise\u001b[39;00m exception_class(message, screen, stacktrace)\n",
      "\u001b[0;31mInvalidArgumentException\u001b[0m: Message: invalid argument: cannot parse capability: goog:chromeOptions\nfrom invalid argument: unrecognized chrome option: excludeSwitches\nStacktrace:\n0   undetected_chromedriver             0x0000000101391428 undetected_chromedriver + 4899880\n1   undetected_chromedriver             0x000000010130ea23 undetected_chromedriver + 4364835\n2   undetected_chromedriver             0x0000000100f58bf6 undetected_chromedriver + 474102\n3   undetected_chromedriver             0x0000000100f7a8aa undetected_chromedriver + 612522\n4   undetected_chromedriver             0x0000000100f7fb35 undetected_chromedriver + 633653\n5   undetected_chromedriver             0x0000000100f75da6 undetected_chromedriver + 593318\n6   undetected_chromedriver             0x0000000100fc9ed2 undetected_chromedriver + 937682\n7   undetected_chromedriver             0x0000000100fc97ae undetected_chromedriver + 935854\n8   undetected_chromedriver             0x0000000100fcb64b undetected_chromedriver + 943691\n9   undetected_chromedriver             0x0000000100fcb3af undetected_chromedriver + 943023\n10  undetected_chromedriver             0x0000000100fc2333 undetected_chromedriver + 906035\n11  undetected_chromedriver             0x0000000100f8c55f undetected_chromedriver + 685407\n12  undetected_chromedriver             0x0000000100f8da7e undetected_chromedriver + 690814\n13  undetected_chromedriver             0x000000010135e79e undetected_chromedriver + 4691870\n14  undetected_chromedriver             0x0000000101363961 undetected_chromedriver + 4712801\n15  undetected_chromedriver             0x000000010136a2ff undetected_chromedriver + 4739839\n16  undetected_chromedriver             0x000000010136485a undetected_chromedriver + 4716634\n17  undetected_chromedriver             0x0000000101336fce undetected_chromedriver + 4530126\n18  undetected_chromedriver             0x00000001013845c8 undetected_chromedriver + 4847048\n19  undetected_chromedriver             0x0000000101384747 undetected_chromedriver + 4847431\n20  undetected_chromedriver             0x000000010139987f undetected_chromedriver + 4933759\n21  libsystem_pthread.dylib             0x00007ff810c8b259 _pthread_start + 125\n22  libsystem_pthread.dylib             0x00007ff810c86c7b thread_start + 15\n"
     ]
    }
   ],
   "source": [
    "\n",
    "element = driver.find_element_by_xpath(\"//div[text()='log in']\")\n"
   ]
  },
  {
   "cell_type": "code",
   "execution_count": 37,
   "metadata": {},
   "outputs": [],
   "source": [
    "import time \n",
    "import undetected_chromedriver as uc\n",
    "from selenium.webdriver.common.keys import Keys\n",
    "\n",
    "from selenium.webdriver.remote.webdriver import By\n",
    "\n",
    "driver = uc.Chrome(use_subprocess=True)\n",
    "driver.get(\"https://aiasvm1.amcl.tuc.gr:8087/\") \n",
    "driver.implicitly_wait(3)\n",
    "\n",
    "\n",
    "\n",
    "try : \n",
    "    bnt = driver.find_element(By.XPATH, \"//button[text()='login/register']\")\n",
    "    bnt.click()\n",
    "    textF = driver.find_element(By.ID,\"username\")\n",
    "    textF.send_keys('riadrk')\n",
    "    textF2 = driver.find_element(By.ID,\"pwd\")\n",
    "    textF2.send_keys('Rekab190822!')\n",
    "    textF2.send_keys(Keys.RETURN)\n",
    "    grocias = driver.find_element(By.ID,'prolog-area')\n",
    "    grocias.send_keys('Anya 1234 ')\n",
    "    time.sleep(2)\n",
    "    grocias.send_keys(Keys.RETURN)\n",
    "    all_li = driver.find_elements(By.TAG_NAME,\"li\")\n",
    "    for li in all_li:\n",
    "        text = li.text\n",
    "        print (text)\n",
    "    # results = driver.find_element(By.XPATH,\"//div[@class='i item2']\")\n",
    "    # print(results.text)\n",
    "\n",
    "\n",
    "\n",
    "\n",
    "\n",
    "    \n",
    "    # btn = driver.find_element('class', 'btn relative btn-primary rounded-none rounded-r-md')\n",
    "    # btn.click()\n",
    "    \n",
    "except Exception as e : \n",
    "    print(e)\n",
    "\n",
    "# try : \n",
    "#     l =driver.find_element_by_xpath(\"//button[text()='Check it Now']\")\n",
    "\n",
    "#     div = driver.find_element(By.XPATH, \"//button[text()='Log in']\")\n",
    "#     div.click()\n",
    "\n",
    "# except Exception as e : \n",
    "#     print(e)\n"
   ]
  }
 ],
 "metadata": {
  "kernelspec": {
   "display_name": "Python 3",
   "language": "python",
   "name": "python3"
  },
  "language_info": {
   "codemirror_mode": {
    "name": "ipython",
    "version": 3
   },
   "file_extension": ".py",
   "mimetype": "text/x-python",
   "name": "python",
   "nbconvert_exporter": "python",
   "pygments_lexer": "ipython3",
   "version": "3.10.8"
  },
  "orig_nbformat": 4
 },
 "nbformat": 4,
 "nbformat_minor": 2
}
